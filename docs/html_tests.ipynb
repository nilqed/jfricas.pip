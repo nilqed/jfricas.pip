{
 "cells": [
  {
   "cell_type": "code",
   "execution_count": null,
   "metadata": {},
   "outputs": [
    {
     "name": "stdout",
     "output_type": "stream",
     "text": [
      "0.2.10"
     ]
    }
   ],
   "source": [
    ")python __version__"
   ]
  },
  {
   "cell_type": "code",
   "execution_count": 1,
   "metadata": {},
   "outputs": [
    {
     "name": "stdout",
     "output_type": "stream",
     "text": []
    },
    {
     "data": {
      "text/html": [
       "<h1>Hello there!"
      ]
     },
     "metadata": {},
     "output_type": "display_data"
    }
   ],
   "source": [
    "\"$HTML$<h1>Hello there!\""
   ]
  },
  {
   "cell_type": "code",
   "execution_count": 2,
   "metadata": {},
   "outputs": [
    {
     "name": "stdout",
     "output_type": "stream",
     "text": []
    },
    {
     "data": {},
     "metadata": {},
     "output_type": "display_data"
    }
   ],
   "source": [
    ")summary"
   ]
  },
  {
   "cell_type": "code",
   "execution_count": 4,
   "metadata": {},
   "outputs": [
    {
     "name": "stdout",
     "output_type": "stream",
     "text": [
      "Available help topics for system commands are:\n",
      "\n",
      " boot   cd     clear    close     compile   display\n",
      " edit   fin    frame    help      history   library\n",
      " lisp   load   ltrace   pquit     quit      read\n",
      " set    show   spool    synonym   system    trace\n",
      " undo   what\n",
      "\n",
      "Issue \")help help\" for more information about the help command.\n"
     ]
    },
    {
     "data": {},
     "metadata": {},
     "output_type": "display_data"
    }
   ],
   "source": [
    ")help"
   ]
  },
  {
   "cell_type": "code",
   "execution_count": 5,
   "metadata": {},
   "outputs": [
    {
     "name": "stdout",
     "output_type": "stream",
     "text": [
      "   1222222222222222\n",
      "   ----------------\n",
      "           7\n",
      "                                                      Type: Fraction(Integer)\n"
     ]
    },
    {
     "data": {},
     "metadata": {},
     "output_type": "display_data"
    }
   ],
   "source": [
    "1222222222222222/7"
   ]
  },
  {
   "cell_type": "code",
   "execution_count": 7,
   "metadata": {},
   "outputs": [
    {
     "name": "stdout",
     "output_type": "stream",
     "text": [
      "   \"abc\"\n",
      "                                                                 Type: String\n"
     ]
    },
    {
     "data": {},
     "metadata": {},
     "output_type": "display_data"
    }
   ],
   "source": [
    "\"abc\""
   ]
  },
  {
   "cell_type": "code",
   "execution_count": 9,
   "metadata": {},
   "outputs": [
    {
     "name": "stdout",
     "output_type": "stream",
     "text": [
      "   \"<i>This text is italic</i>\"\n",
      "                                                                 Type: String\n"
     ]
    },
    {
     "data": {},
     "metadata": {},
     "output_type": "display_data"
    }
   ],
   "source": [
    "s:=\"<i>This text is italic</i>\""
   ]
  },
  {
   "cell_type": "code",
   "execution_count": 10,
   "metadata": {},
   "outputs": [
    {
     "name": "stdout",
     "output_type": "stream",
     "text": [
      "   \"$HTML<i>This text is italic</i>\"\n",
      "                                                                 Type: String\n"
     ]
    },
    {
     "data": {},
     "metadata": {},
     "output_type": "display_data"
    }
   ],
   "source": [
    "concat(\"$HTML$\",s)"
   ]
  },
  {
   "cell_type": "code",
   "execution_count": 11,
   "metadata": {},
   "outputs": [
    {
     "name": "stdout",
     "output_type": "stream",
     "text": []
    },
    {
     "data": {
      "text/html": [
       "<i>This text is italic</i>"
      ]
     },
     "metadata": {},
     "output_type": "display_data"
    }
   ],
   "source": [
    "concat(\"$HTML$\",s)"
   ]
  },
  {
   "cell_type": "code",
   "execution_count": 12,
   "metadata": {},
   "outputs": [
    {
     "name": "stdout",
     "output_type": "stream",
     "text": [
      "   \"abcdef123\"\n",
      "                                                                 Type: String\n"
     ]
    },
    {
     "data": {},
     "metadata": {},
     "output_type": "display_data"
    }
   ],
   "source": [
    "concat [\"abc\",\"def\",\"123\"]"
   ]
  },
  {
   "cell_type": "code",
   "execution_count": 14,
   "metadata": {},
   "outputs": [
    {
     "name": "stdout",
     "output_type": "stream",
     "text": [
      "   \"abcdef123\"\n",
      "                                                                 Type: String\n"
     ]
    },
    {
     "data": {},
     "metadata": {},
     "output_type": "display_data"
    }
   ],
   "source": [
    "concat [\"abc\",_\n",
    " \"def\",_\n",
    " \"123\"]"
   ]
  },
  {
   "cell_type": "code",
   "execution_count": 19,
   "metadata": {},
   "outputs": [
    {
     "name": "stdout",
     "output_type": "stream",
     "text": [
      "  \"<table style=\"width:50%\"><tr><th>Firstname</th><th>Lastname</th><th>Age</th>\n",
      "  </tr><tr><td>Jill</td><td>Smith</td><td>50</td></tr><tr><td>Eve</td><td>Jacks\n",
      "  on</td><td>94</td></tr></table>\"\n",
      "                                                                 Type: String\n"
     ]
    },
    {
     "data": {},
     "metadata": {},
     "output_type": "display_data"
    }
   ],
   "source": [
    "t:=concat [\"<table style=_\"width:50%_\">\",_\n",
    "  \"<tr><th>Firstname</th><th>Lastname</th><th>Age</th></tr>\",_\n",
    "  \"<tr><td>Jill</td><td>Smith</td><td>50</td></tr>\",_\n",
    "  \"<tr><td>Eve</td><td>Jackson</td><td>94</td></tr></table>\"] "
   ]
  },
  {
   "cell_type": "code",
   "execution_count": 20,
   "metadata": {},
   "outputs": [
    {
     "name": "stdout",
     "output_type": "stream",
     "text": []
    },
    {
     "data": {
      "text/html": [
       "<table style=\"width:50%\"><tr><th>Firstname</th><th>Lastname</th><th>Ag\n",
       "  e</th></tr><tr><td>Jill</td><td>Smith</td><td>50</td></tr><tr><td>Eve</td><td\n",
       "  >Jackson</td><td>94</td></tr></table>"
      ]
     },
     "metadata": {},
     "output_type": "display_data"
    }
   ],
   "source": [
    "concat(\"$HTML$\",t)"
   ]
  },
  {
   "cell_type": "code",
   "execution_count": 21,
   "metadata": {},
   "outputs": [
    {
     "name": "stdout",
     "output_type": "stream",
     "text": [
      "   \"<a href=\"https://github.com/fricas\">This is a link to github/fricas</a>\"\n",
      "                                                                 Type: String\n"
     ]
    },
    {
     "data": {},
     "metadata": {},
     "output_type": "display_data"
    }
   ],
   "source": [
    "l:=\"<a href=_\"https://github.com/fricas_\">This is a link to github/fricas</a>\""
   ]
  },
  {
   "cell_type": "code",
   "execution_count": 22,
   "metadata": {},
   "outputs": [
    {
     "name": "stdout",
     "output_type": "stream",
     "text": []
    },
    {
     "data": {
      "text/html": [
       "<a href=\"https://github.com/fricas\">This is a link to github/fricas</a\n",
       "  >"
      ]
     },
     "metadata": {},
     "output_type": "display_data"
    }
   ],
   "source": [
    "concat(\"$HTML$\",l)"
   ]
  },
  {
   "cell_type": "code",
   "execution_count": 23,
   "metadata": {},
   "outputs": [
    {
     "name": "stdout",
     "output_type": "stream",
     "text": [
      "  \"<ul style=\"list-style-type:circle;\"><li>Coffee</li><li>Tea</li><li>Milk</li>\n",
      "  </ul>\"\n",
      "                                                                 Type: String\n"
     ]
    },
    {
     "data": {},
     "metadata": {},
     "output_type": "display_data"
    }
   ],
   "source": [
    "cl:=\"<ul style=_\"list-style-type:circle;_\"><li>Coffee</li><li>Tea</li><li>Milk</li></ul>\""
   ]
  },
  {
   "cell_type": "code",
   "execution_count": 24,
   "metadata": {},
   "outputs": [
    {
     "name": "stdout",
     "output_type": "stream",
     "text": []
    },
    {
     "data": {
      "text/html": [
       "<ul style=\"list-style-type:circle;\"><li>Coffee</li><li>Tea</li><li>Mil\n",
       "  k</li></ul>"
      ]
     },
     "metadata": {},
     "output_type": "display_data"
    }
   ],
   "source": [
    "concat(\"$HTML$\",cl)"
   ]
  },
  {
   "cell_type": "code",
   "execution_count": 25,
   "metadata": {},
   "outputs": [
    {
     "name": "stdout",
     "output_type": "stream",
     "text": [
      "   \"<h1>My <span style=\"color:red\">Important</span> Heading</h1>\"\n",
      "                                                                 Type: String\n"
     ]
    },
    {
     "data": {},
     "metadata": {},
     "output_type": "display_data"
    }
   ],
   "source": [
    "sp:=\"<h1>My <span style=_\"color:red_\">Important</span> Heading</h1>\""
   ]
  },
  {
   "cell_type": "code",
   "execution_count": 26,
   "metadata": {},
   "outputs": [
    {
     "name": "stdout",
     "output_type": "stream",
     "text": []
    },
    {
     "data": {
      "text/html": [
       "<h1>My <span style=\"color:red\">Important</span> Heading</h1>"
      ]
     },
     "metadata": {},
     "output_type": "display_data"
    }
   ],
   "source": [
    "concat(\"$HTML$\",sp)"
   ]
  },
  {
   "cell_type": "code",
   "execution_count": 28,
   "metadata": {},
   "outputs": [
    {
     "name": "stdout",
     "output_type": "stream",
     "text": [
      "  \"<form> First name:<br> <input type=\"text\" name=\"firstname\"><br>Last name:<br\n",
      "  ><input type=\"text\" name=\"lastname\"></form>\"\n",
      "                                                                 Type: String\n"
     ]
    },
    {
     "data": {},
     "metadata": {},
     "output_type": "display_data"
    }
   ],
   "source": [
    "frm:=concat [\"<form> First name:<br> <input type=_\"text_\" name=_\"firstname_\"><br>\",_\n",
    "  \"Last name:<br><input type=_\"text_\" name=_\"lastname_\"></form>\" ]"
   ]
  },
  {
   "cell_type": "code",
   "execution_count": 29,
   "metadata": {},
   "outputs": [
    {
     "name": "stdout",
     "output_type": "stream",
     "text": []
    },
    {
     "data": {
      "text/html": [
       "<form> First name:<br> <input type=\"text\" name=\"firstname\"><br>Last na\n",
       "  me:<br><input type=\"text\" name=\"lastname\"></form>"
      ]
     },
     "metadata": {},
     "output_type": "display_data"
    }
   ],
   "source": [
    "concat(\"$HTML$\",frm)"
   ]
  },
  {
   "cell_type": "code",
   "execution_count": 32,
   "metadata": {},
   "outputs": [
    {
     "name": "stdout",
     "output_type": "stream",
     "text": [
      "  \"var c = document.getElementById(\"myCanvas\");var ctx = c.getContext(\"2d\");var\n",
      "   img = document.getElementById(\"scream\");ctx.drawImage(img, 10, 10);\"\n",
      "                                                                 Type: String\n"
     ]
    },
    {
     "data": {},
     "metadata": {},
     "output_type": "display_data"
    }
   ],
   "source": [
    "canvas:=concat[\"var c = document.getElementById(_\"myCanvas_\");\",_\n",
    "\"var ctx = c.getContext(_\"2d_\");\",_\n",
    "\"var img = document.getElementById(_\"scream_\");\",_\n",
    "\"ctx.drawImage(img, 10, 10);\"] "
   ]
  },
  {
   "cell_type": "code",
   "execution_count": 33,
   "metadata": {},
   "outputs": [
    {
     "name": "stdout",
     "output_type": "stream",
     "text": []
    },
    {
     "data": {
      "text/html": [
       "var c = document.getElementById(\"myCanvas\");var ctx = c.getContext(\"2d\n",
       "  \");var img = document.getElementById(\"scream\");ctx.drawImage(img, 10, 10);"
      ]
     },
     "metadata": {},
     "output_type": "display_data"
    }
   ],
   "source": [
    "concat(\"$HTML$\",canvas)"
   ]
  },
  {
   "cell_type": "code",
   "execution_count": null,
   "metadata": {},
   "outputs": [
    {
     "name": "stdout",
     "output_type": "stream",
     "text": [
      "--2019-08-14 02:55:13--  https://www.w3schools.com/html/img_the_scream.jpg\n",
      "Resolving www.w3schools.com (www.w3schools.com)... 192.229.133.221\n",
      "Connecting to www.w3schools.com (www.w3schools.com)|192.229.133.221|:443... connected.\n",
      "HTTP request sent, awaiting response... 200 OK\n",
      "Length: 29971 (29K) [image/jpeg]\n",
      "Saving to: ‘img_the_scream.jpg’\n",
      "\n",
      "     0K .......... .......... .........                       100% 5.46M=0.005s\n",
      "\n",
      "2019-08-14 02:55:13 (5.46 MB/s) - ‘img_the_scream.jpg’ saved [29971/29971]\n",
      "\n"
     ]
    }
   ],
   "source": [
    "!wget https://www.w3schools.com/html/img_the_scream.jpg"
   ]
  },
  {
   "cell_type": "code",
   "execution_count": null,
   "metadata": {},
   "outputs": [
    {
     "name": "stdout",
     "output_type": "stream",
     "text": [
      "img_the_scream.jpg\n"
     ]
    }
   ],
   "source": [
    "!ls img*"
   ]
  },
  {
   "cell_type": "code",
   "execution_count": 36,
   "metadata": {},
   "outputs": [
    {
     "name": "stdout",
     "output_type": "stream",
     "text": [
      "   \"<img src=\"img_the_scream.jpg\" alt=\"Scream\">\"\n",
      "                                                                 Type: String\n"
     ]
    },
    {
     "data": {},
     "metadata": {},
     "output_type": "display_data"
    }
   ],
   "source": [
    "pic:=\"<img src=_\"img_the_scream.jpg_\" alt=_\"Scream_\">\""
   ]
  },
  {
   "cell_type": "code",
   "execution_count": 37,
   "metadata": {},
   "outputs": [
    {
     "name": "stdout",
     "output_type": "stream",
     "text": []
    },
    {
     "data": {
      "text/html": [
       "<img src=\"img_the_scream.jpg\" alt=\"Scream\">"
      ]
     },
     "metadata": {},
     "output_type": "display_data"
    }
   ],
   "source": [
    "concat(\"$HTML$\",pic)"
   ]
  },
  {
   "cell_type": "code",
   "execution_count": null,
   "metadata": {},
   "outputs": [],
   "source": []
  }
 ],
 "metadata": {
  "kernelspec": {
   "display_name": "FriCAS",
   "language": "spad",
   "name": "jfricas"
  },
  "language_info": {
   "file_extension": ".input",
   "mimetype": "text/plain",
   "name": "spad"
  }
 },
 "nbformat": 4,
 "nbformat_minor": 2
}
