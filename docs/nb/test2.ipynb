{
 "cells": [
  {
   "cell_type": "code",
   "execution_count": 1,
   "metadata": {},
   "outputs": [
    {
     "name": "stdout",
     "output_type": "stream",
     "text": [
      "   Your argument list is not valid.\n"
     ]
    },
    {
     "data": {},
     "metadata": {},
     "output_type": "display_data"
    }
   ],
   "source": [
    ")versionn"
   ]
  },
  {
   "cell_type": "code",
   "execution_count": 2,
   "metadata": {},
   "outputs": [
    {
     "name": "stdout",
     "output_type": "stream",
     "text": [
      "Value = \"FriCAS 1.3.5 compiled at Sun Feb  3 18:21:59 UTC 2019\"\n"
     ]
    },
    {
     "data": {},
     "metadata": {},
     "output_type": "display_data"
    }
   ],
   "source": [
    ")version"
   ]
  },
  {
   "cell_type": "code",
   "execution_count": 3,
   "metadata": {},
   "outputs": [
    {
     "name": "stdout",
     "output_type": "stream",
     "text": [
      "   x\n",
      "                                                            Type: Variable(x)\n"
     ]
    },
    {
     "data": {},
     "metadata": {},
     "output_type": "display_data"
    }
   ],
   "source": [
    "x"
   ]
  },
  {
   "cell_type": "code",
   "execution_count": null,
   "metadata": {},
   "outputs": [
    {
     "name": "stdout",
     "output_type": "stream",
     "text": [
      "59243"
     ]
    }
   ],
   "source": [
    ")python htport"
   ]
  },
  {
   "cell_type": "code",
   "execution_count": null,
   "metadata": {},
   "outputs": [],
   "source": [
    ")python \"__import__(\"os\").ls\""
   ]
  },
  {
   "cell_type": "code",
   "execution_count": 6,
   "metadata": {},
   "outputs": [
    {
     "name": "stdout",
     "output_type": "stream",
     "text": [
      "   x\n",
      "                                                            Type: Variable(x)\n"
     ]
    },
    {
     "data": {},
     "metadata": {},
     "output_type": "display_data"
    }
   ],
   "source": [
    "x"
   ]
  },
  {
   "cell_type": "code",
   "execution_count": 7,
   "metadata": {},
   "outputs": [
    {
     "name": "stdout",
     "output_type": "stream",
     "text": [
      "    41\n",
      "   ---\n",
      "   263\n",
      "                                                      Type: Fraction(Integer)\n"
     ]
    },
    {
     "data": {},
     "metadata": {},
     "output_type": "display_data"
    }
   ],
   "source": [
    "x:=123/789"
   ]
  },
  {
   "cell_type": "code",
   "execution_count": 8,
   "metadata": {},
   "outputs": [
    {
     "name": "stdout",
     "output_type": "stream",
     "text": [
      "Available help topics for system commands are:\n",
      "\n",
      " boot   cd     clear    close     compile   display\n",
      " edit   fin    frame    help      history   library\n",
      " lisp   load   ltrace   pquit     quit      read\n",
      " set    show   spool    synonym   system    trace\n",
      " undo   what\n",
      "\n",
      "Issue \")help help\" for more information about the help command.\n"
     ]
    },
    {
     "data": {},
     "metadata": {},
     "output_type": "display_data"
    }
   ],
   "source": [
    ")help"
   ]
  },
  {
   "cell_type": "code",
   "execution_count": 11,
   "metadata": {},
   "outputs": [
    {
     "name": "stdout",
     "output_type": "stream",
     "text": [
      "Value = \"{\\\\em Enumeration(a1, a2 ,..., aN)} creates an object which is exactly one of the N symbols {\\\\em a1}, {\\\\em a2}, ..., or {\\\\em aN}, N > 0. \"\n"
     ]
    },
    {
     "data": {},
     "metadata": {},
     "output_type": "display_data"
    }
   ],
   "source": [
    ")lisp x"
   ]
  },
  {
   "cell_type": "code",
   "execution_count": 12,
   "metadata": {},
   "outputs": [
    {
     "name": "stdout",
     "output_type": "stream",
     "text": [
      "Value = 5\n"
     ]
    },
    {
     "data": {},
     "metadata": {},
     "output_type": "display_data"
    }
   ],
   "source": [
    ")lisp (+ 2 3)"
   ]
  },
  {
   "cell_type": "code",
   "execution_count": 13,
   "metadata": {},
   "outputs": [
    {
     "name": "stdout",
     "output_type": "stream",
     "text": [
      "    41\n",
      "   ---\n",
      "   263\n",
      "                                                      Type: Fraction(Integer)\n"
     ]
    },
    {
     "data": {},
     "metadata": {},
     "output_type": "display_data"
    }
   ],
   "source": [
    "x"
   ]
  },
  {
   "cell_type": "code",
   "execution_count": 14,
   "metadata": {},
   "outputs": [
    {
     "name": "stdout",
     "output_type": "stream",
     "text": [
      "Value = \"1.4.5.debian\"\n"
     ]
    },
    {
     "data": {},
     "metadata": {},
     "output_type": "display_data"
    }
   ],
   "source": [
    ")lisp (lisp-implementation-version)"
   ]
  },
  {
   "cell_type": "code",
   "execution_count": 15,
   "metadata": {},
   "outputs": [
    {
     "name": "stdout",
     "output_type": "stream",
     "text": [
      "   You have not used the correct syntax for the history command. Issue \n",
      "      )help history for more information.\n"
     ]
    },
    {
     "data": {},
     "metadata": {},
     "output_type": "display_data"
    }
   ],
   "source": [
    ")history"
   ]
  },
  {
   "cell_type": "code",
   "execution_count": 16,
   "metadata": {},
   "outputs": [
    {
     "name": "stdout",
     "output_type": "stream",
     "text": [
      "   k\n",
      "                                                            Type: Variable(k)\n"
     ]
    },
    {
     "data": {},
     "metadata": {},
     "output_type": "display_data"
    }
   ],
   "source": [
    "k"
   ]
  },
  {
   "cell_type": "code",
   "execution_count": 18,
   "metadata": {},
   "outputs": [
    {
     "name": "stdout",
     "output_type": "stream",
     "text": [
      "====================================================================\n",
      "A.13.  )history\n",
      "====================================================================\n",
      " \n",
      "User Level Required:  interpreter\n",
      " \n",
      "Command Syntax: \n",
      " \n",
      "  - )history )on\n",
      "  - )history )off\n",
      "  - )history )write historyInputFileName\n",
      "  - )history )show [n] [both]\n",
      "  - )history )save savedHistoryName\n",
      "  - )history )restore [savedHistoryName]\n",
      "  - )history )reset\n",
      "  - )history )change n\n",
      "  - )history )memory\n",
      "  - )history )file\n",
      "  - %\n",
      "  - %%(n)\n",
      "  - )set history on | off\n",
      " \n",
      "Command Description: \n",
      " \n",
      "The history facility within FriCAS allows you to restore your environment to\n",
      "that of another session and recall previous computational results. Additional\n",
      "commands allow you to review previous input lines and to create an .input\n",
      "file of the lines typed to FriCAS.\n",
      " \n",
      "FriCAS saves your input and output if the history facility is turned on\n",
      "(which is the default). This information is saved if either of\n",
      " \n",
      ")set history on\n",
      ")history )on\n",
      " \n",
      "has been issued. Issuing either\n",
      " \n",
      ")set history off\n",
      ")history )off\n",
      " \n",
      "will discontinue the recording of information.\n",
      " \n",
      "Whether the facility is disabled or not, the value of % in FriCAS always\n",
      "refers to the result of the last computation. If you have not yet entered\n",
      "anything, % evaluates to an object of type Variable('%). The function %% may\n",
      "be used to refer to other previous results if the history facility is\n",
      "enabled. In that case, %%(n) is the output from step n if n > 0. If n < 0,\n",
      "the step is computed relative to the current step. Thus %%(-1) is also the\n",
      "previous step, %%(-2), is the step before that, and so on. If an invalid step\n",
      "number is given, FriCAS will signal an error.\n",
      " \n",
      "The environment information can either be saved in a file or entirely in\n",
      "memory (the default). Each frame ( description of command )frame ) has its\n",
      "own history database. When it is kept in a file, some of it may also be kept\n",
      "in memory for efficiency. When the information is saved in a file, the name\n",
      "of the file is of the form FRAME.axh where ``FRAME'' is the name of the\n",
      "current frame. The history file is placed in the current working directory\n",
      "(see description of command )cd ). Note that these history database files are\n",
      "not text files (in fact, they are directories themselves), and so are not in\n",
      "human-readable format.\n",
      " \n",
      "The options to the )history command are as follows:\n",
      " \n",
      "  )change n\n",
      "    will set the number of steps that are saved in memory to n. This option\n",
      "    only has effect when the history data is maintained in a file. If you\n",
      "    have issued )history )memory (or not changed the default) there is no\n",
      "    need to use )history )change.\n",
      " \n",
      "  )on\n",
      "    will start the recording of information. If the workspace is not empty,\n",
      "    you will be asked to confirm this request. If you do so, the workspace\n",
      "    will be cleared and history data will begin being saved. You can also\n",
      "    turn the facility on by issuing )set history on.\n",
      " \n",
      "  )off\n",
      "    will stop the recording of information. The )history )show command will\n",
      "    not work after issuing this command. Note that this command may be issued\n",
      "    to save time, as there is some performance penalty paid for saving the\n",
      "    environment data. You can also turn the facility off by issuing )set\n",
      "    history off.\n",
      " \n",
      "  )file\n",
      "    indicates that history data should be saved in an external file on disk.\n",
      " \n",
      "  )memory\n",
      "    indicates that all history data should be kept in memory rather than\n",
      "    saved in a file. Note that if you are computing with very large objects\n",
      "    it may not be practical to kept this data in memory.\n",
      " \n",
      "  )reset\n",
      "    will flush the internal list of the most recent workspace calculations so\n",
      "    that the data structures may be garbage collected by the underlying Lisp\n",
      "    system. Like )history )change, this option only has real effect when\n",
      "    history data is being saved in a file.\n",
      " \n",
      "  )restore [savedHistoryName]\n",
      "    completely clears the environment and restores it to a saved session, if\n",
      "    possible. The )save option below allows you to save a session to a file\n",
      "    with a given name. If you had issued )history )save jacobi the command\n",
      "    )history )restore jacobi would clear the current workspace and load the\n",
      "    contents of the named saved session. If no saved session name is\n",
      "    specified, the system looks for a file called last.axh.\n",
      " \n",
      "  )save savedHistoryName\n",
      "    is used to save a snapshot of the environment in a file. This file is\n",
      "    placed in the current working directory (see description of command )cd\n",
      "    ). Use )history )restore to restore the environment to the state\n",
      "    preserved in the file. This option also creates an input file containing\n",
      "    all the lines of input since you created the workspace frame (for\n",
      "    example, by starting your FriCAS session) or last did a )clear all or\n",
      "    )clear completely.\n",
      " \n",
      "  )show [n] [both]\n",
      "    can show previous input lines and output results. )show will display up\n",
      "    to twenty of the last input lines (fewer if you haven't typed in twenty\n",
      "    lines). )show n will display up to n of the last input lines. )show both\n",
      "    will display up to five of the last input lines and output results. )show\n",
      "    n both will display up to n of the last input lines and output results.\n",
      " \n",
      "  )write historyInputFile\n",
      "    creates an .input file with the input lines typed since the start of the\n",
      "    session/frame or the last )clear all or )clear completely. If\n",
      "    historyInputFileName does not contain a period (``.'') in the filename,\n",
      "    .input is appended to it. For example, )history )write chaos and )history\n",
      "    )write chaos.input both write the input lines to a file called\n",
      "    chaos.input in your current working directory. If you issued one or more\n",
      "    )undo commands, )history )write eliminates all input lines backtracked\n",
      "    over as a result of )undo. You can edit this file and then use )read to\n",
      "    have FriCAS process the contents.\n",
      " \n",
      "Also See: \n",
      "o )frame\n",
      "o )read\n",
      "o )set\n",
      "o )undo\n",
      " \n"
     ]
    },
    {
     "data": {},
     "metadata": {},
     "output_type": "display_data"
    }
   ],
   "source": [
    ")help history"
   ]
  },
  {
   "cell_type": "code",
   "execution_count": 22,
   "metadata": {},
   "outputs": [
    {
     "name": "stdout",
     "output_type": "stream",
     "text": [
      "    41\n",
      "   ---\n",
      "   263\n",
      "                                                      Type: Fraction(Integer)\n"
     ]
    },
    {
     "data": {},
     "metadata": {},
     "output_type": "display_data"
    }
   ],
   "source": [
    "x"
   ]
  },
  {
   "cell_type": "code",
   "execution_count": 23,
   "metadata": {},
   "outputs": [
    {
     "name": "stdout",
     "output_type": "stream",
     "text": [
      "    41\n",
      "   ---\n",
      "   263\n",
      "                                                      Type: Fraction(Integer)\n"
     ]
    },
    {
     "data": {},
     "metadata": {},
     "output_type": "display_data"
    }
   ],
   "source": [
    "%"
   ]
  },
  {
   "cell_type": "code",
   "execution_count": 26,
   "metadata": {},
   "outputs": [
    {
     "name": "stdout",
     "output_type": "stream",
     "text": [
      "    263+--+41\n",
      "      \\|41\n",
      "   ----------\n",
      "   263+---+41\n",
      "     \\|263\n",
      "                                                        Type: AlgebraicNumber\n"
     ]
    },
    {
     "data": {},
     "metadata": {},
     "output_type": "display_data"
    }
   ],
   "source": [
    "x^x"
   ]
  },
  {
   "cell_type": "code",
   "execution_count": 27,
   "metadata": {},
   "outputs": [
    {
     "name": "stdout",
     "output_type": "stream",
     "text": [
      "        41\n",
      "   log(---)\n",
      "       263\n",
      "                                                    Type: Expression(Integer)\n"
     ]
    },
    {
     "data": {},
     "metadata": {},
     "output_type": "display_data"
    }
   ],
   "source": [
    "log(x)"
   ]
  },
  {
   "cell_type": "code",
   "execution_count": 30,
   "metadata": {},
   "outputs": [
    {
     "name": "stdout",
     "output_type": "stream",
     "text": [
      "error\n"
     ]
    },
    {
     "name": "stderr",
     "output_type": "stream",
     "text": [
      "   There are 1 exposed and 0 unexposed library operations named float \n",
      "      having 1 argument(s) but none was determined to be applicable. \n",
      "      Use HyperDoc Browse, or issue\n",
      "                              )display op float\n",
      "      to learn more about the available operations. Perhaps \n",
      "      package-calling the operation or using coercions on the arguments\n",
      "      will allow you to apply the operation.\n",
      " \n",
      "   Cannot find a definition or applicable library operation named float\n",
      "      with argument type(s) \n",
      "                             Expression(Integer)\n",
      "      \n",
      "      Perhaps you should use \"@\" to indicate the required return type, \n",
      "      or \"$\" to specify which version of the function you need.\n",
      "\n"
     ]
    },
    {
     "data": {},
     "metadata": {},
     "output_type": "display_data"
    }
   ],
   "source": [
    "float(%)"
   ]
  },
  {
   "cell_type": "code",
   "execution_count": 31,
   "metadata": {},
   "outputs": [
    {
     "name": "stdout",
     "output_type": "stream",
     "text": []
    },
    {
     "data": {},
     "metadata": {},
     "output_type": "display_data"
    }
   ],
   "source": [
    ")set output tex on"
   ]
  },
  {
   "cell_type": "code",
   "execution_count": 34,
   "metadata": {},
   "outputs": [
    {
     "name": "stdout",
     "output_type": "stream",
     "text": [
      "          +---+\n",
      "   erf(y)\\|%pi\n",
      "   ------------\n",
      "         2\n",
      "                                         Type: Union(Expression(Integer),...)\n"
     ]
    },
    {
     "data": {
      "text/latex": [
       "\\(\\def\\sp{^}\\def\\sb{_}\\def\\leqno(#1){}\\)\\(\\def\\erf\\{\\mathrm{erf}}\\def\\sinh{\\mathrm{sinh}}\\)\\(\\def\\zag#1#2{{{ \\left.{#1}\\right|}\\over{\\left|{#2}\\right.}}}\\)\\(\\require{color}\\)$$\n",
       "{\\color{black} \\normalsize \n",
       "{{\\erf \n",
       "\\left(\n",
       "{y} \n",
       "\\right)}\n",
       "\\  {\\sqrt {\\pi}}} \\over 2 \n",
       "\\leqno(NIL)\n",
       "} \\\\[0.9ex] {\\color{blue} \\scriptsize \\text{Union(Expression(Integer),...)}} \\\\\n",
       "$$"
      ]
     },
     "metadata": {},
     "output_type": "display_data"
    }
   ],
   "source": [
    "integrate(exp(-y^2),y)"
   ]
  },
  {
   "cell_type": "code",
   "execution_count": 35,
   "metadata": {},
   "outputs": [
    {
     "name": "stdout",
     "output_type": "stream",
     "text": [
      "           1 |     1  |     1 |      1  |     1 |     1 |     1 |     1 |\n",
      "     3 + +---+ + +----+ + +---+ + +-----+ + +---+ + +---+ + +---+ + +---+\n",
      "         | 7     | 15     | 1     | 292     | 1     | 1     | 1     | 2\n",
      "   + \n",
      "       1 |     1 |\n",
      "     +---+ + +---+ + ...\n",
      "     | 1     | 3\n",
      "                                             Type: ContinuedFraction(Integer)\n"
     ]
    },
    {
     "data": {
      "text/latex": [
       "\\(\\def\\sp{^}\\def\\sb{_}\\def\\leqno(#1){}\\)\\(\\def\\erf\\{\\mathrm{erf}}\\def\\sinh{\\mathrm{sinh}}\\)\\(\\def\\zag#1#2{{{ \\left.{#1}\\right|}\\over{\\left|{#2}\\right.}}}\\)\\(\\require{color}\\)$$\n",
       "{\\color{black} \\normalsize \n",
       "3+ \\zag{1}{7}+ \\zag{1}{{15}}+ \\zag{1}{1}+ \\zag{1}{{292}}+ \\zag{1}{1}+ \n",
       "\\zag{1}{1}+ \\zag{1}{1}+ \\zag{1}{2}+ \\zag{1}{1}+ \\zag{1}{3}+\\ldots \n",
       "\\leqno(NIL)\n",
       "} \\\\[0.9ex] {\\color{blue} \\scriptsize \\text{ContinuedFraction(Integer)}} \\\\\n",
       "$$"
      ]
     },
     "metadata": {},
     "output_type": "display_data"
    }
   ],
   "source": [
    "continuedFraction %pi"
   ]
  },
  {
   "cell_type": "code",
   "execution_count": 36,
   "metadata": {},
   "outputs": [
    {
     "name": "stdout",
     "output_type": "stream",
     "text": []
    },
    {
     "data": {
      "text/latex": [
       "\\(\\def\\sp{^}\\def\\sb{_}\\def\\leqno(#1){}\\)\\(\\def\\erf\\{\\mathrm{erf}}\\def\\sinh{\\mathrm{sinh}}\\)\\(\\def\\zag#1#2{{{ \\left.{#1}\\right|}\\over{\\left|{#2}\\right.}}}\\)\\(\\require{color}\\)$$\n",
       "{\\color{black} \\normalsize } \\\\[0.9ex] {\\color{blue} \\scriptsize \\text{}} \\\\\n",
       "$$"
      ]
     },
     "metadata": {},
     "output_type": "display_data"
    }
   ],
   "source": [
    ")set output tex off"
   ]
  },
  {
   "cell_type": "code",
   "execution_count": 37,
   "metadata": {},
   "outputs": [
    {
     "name": "stdout",
     "output_type": "stream",
     "text": []
    },
    {
     "data": {},
     "metadata": {},
     "output_type": "display_data"
    }
   ],
   "source": [
    ")set output html on"
   ]
  },
  {
   "cell_type": "code",
   "execution_count": 38,
   "metadata": {},
   "outputs": [
    {
     "name": "stdout",
     "output_type": "stream",
     "text": [
      "           1 |     1  |     1 |      1  |     1 |     1 |     1 |     1 |\n",
      "     3 + +---+ + +----+ + +---+ + +-----+ + +---+ + +---+ + +---+ + +---+\n",
      "         | 7     | 15     | 1     | 292     | 1     | 1     | 1     | 2\n",
      "   + \n",
      "       1 |     1 |\n",
      "     +---+ + +---+ + ...\n",
      "     | 1     | 3\n",
      "                                             Type: ContinuedFraction(Integer)\n"
     ]
    },
    {
     "data": {
      "text/html": [
       "<table border='0'>\n",
       "<tr>\n",
       "<td>\n",
       "3\n",
       "</td>\n",
       "<td>\n",
       "+\n",
       "</td>\n",
       "<td>\n",
       "<span style='font-size:16px'>\n",
       "<table border='0' id='zag'>\n",
       "<tr id='zag'>\n",
       "<td colspan='2' id='zag' style='border-bottom-style:solid'>\n",
       "1\n",
       "</td>\n",
       "</tr>\n",
       "<tr id='zag'>\n",
       "<td id='zag'>\n",
       "7+\n",
       "</td>\n",
       "<td id='zag'>\n",
       "<span style='font-size:14px'>\n",
       "<table border='0' id='zag'>\n",
       "<tr id='zag'>\n",
       "<td colspan='2' id='zag' style='border-bottom-style:solid'>\n",
       "1\n",
       "</td>\n",
       "</tr>\n",
       "<tr id='zag'>\n",
       "<td id='zag'>\n",
       "15+\n",
       "</td>\n",
       "<td id='zag'>\n",
       "<span style='font-size:12px'>\n",
       "<table border='0' id='zag'>\n",
       "<tr id='zag'>\n",
       "<td colspan='2' id='zag' style='border-bottom-style:solid'>\n",
       "1\n",
       "</td>\n",
       "</tr>\n",
       "<tr id='zag'>\n",
       "<td id='zag'>\n",
       "1+\n",
       "</td>\n",
       "<td id='zag'>\n",
       "<span style='font-size:10px'>\n",
       "<table border='0' id='zag'>\n",
       "<tr id='zag'>\n",
       "<td colspan='2' id='zag' style='border-bottom-style:solid'>\n",
       "1\n",
       "</td>\n",
       "</tr>\n",
       "<tr id='zag'>\n",
       "<td id='zag'>\n",
       "292+\n",
       "</td>\n",
       "<td id='zag'>\n",
       "<span style='font-size:9px'>\n",
       "<table border='0' id='zag'>\n",
       "<tr id='zag'>\n",
       "<td colspan='2' id='zag' style='border-bottom-style:solid'>\n",
       "1\n",
       "</td>\n",
       "</tr>\n",
       "<tr id='zag'>\n",
       "<td id='zag'>\n",
       "1+\n",
       "</td>\n",
       "<td id='zag'>\n",
       "<span style='font-size:9px'>\n",
       "<table border='0' id='zag'>\n",
       "<tr id='zag'>\n",
       "<td colspan='2' id='zag' style='border-bottom-style:solid'>\n",
       "1\n",
       "</td>\n",
       "</tr>\n",
       "<tr id='zag'>\n",
       "<td id='zag'>\n",
       "1+\n",
       "</td>\n",
       "<td id='zag'>\n",
       "<span style='font-size:9px'>\n",
       "<table border='0' id='zag'>\n",
       "<tr id='zag'>\n",
       "<td colspan='2' id='zag' style='border-bottom-style:solid'>\n",
       "1\n",
       "</td>\n",
       "</tr>\n",
       "<tr id='zag'>\n",
       "<td id='zag'>\n",
       "1+\n",
       "</td>\n",
       "<td id='zag'>\n",
       "<span style='font-size:9px'>\n",
       "<table border='0' id='zag'>\n",
       "<tr id='zag'>\n",
       "<td colspan='2' id='zag' style='border-bottom-style:solid'>\n",
       "1\n",
       "</td>\n",
       "</tr>\n",
       "<tr id='zag'>\n",
       "<td id='zag'>\n",
       "2+\n",
       "</td>\n",
       "<td id='zag'>\n",
       "<span style='font-size:9px'>\n",
       "<table border='0' id='zag'>\n",
       "<tr id='zag'>\n",
       "<td colspan='2' id='zag' style='border-bottom-style:solid'>\n",
       "1\n",
       "</td>\n",
       "</tr>\n",
       "<tr id='zag'>\n",
       "<td id='zag'>\n",
       "1+\n",
       "</td>\n",
       "<td id='zag'>\n",
       "<span style='font-size:9px'>\n",
       "<table border='0' id='zag'>\n",
       "<tr id='zag'>\n",
       "<td colspan='2' id='zag' style='border-bottom-style:solid'>\n",
       "1\n",
       "</td>\n",
       "</tr>\n",
       "<tr id='zag'>\n",
       "<td id='zag'>\n",
       "3+\n",
       "</td>\n",
       "<td id='zag'>\n",
       "&#x2026;\n",
       "</td>\n",
       "</tr>\n",
       "</table>\n",
       "</span>\n",
       "</td>\n",
       "</tr>\n",
       "</table>\n",
       "</span>\n",
       "</td>\n",
       "</tr>\n",
       "</table>\n",
       "</span>\n",
       "</td>\n",
       "</tr>\n",
       "</table>\n",
       "</span>\n",
       "</td>\n",
       "</tr>\n",
       "</table>\n",
       "</span>\n",
       "</td>\n",
       "</tr>\n",
       "</table>\n",
       "</span>\n",
       "</td>\n",
       "</tr>\n",
       "</table>\n",
       "</span>\n",
       "</td>\n",
       "</tr>\n",
       "</table>\n",
       "</span>\n",
       "</td>\n",
       "</tr>\n",
       "</table>\n",
       "</span>\n",
       "</td>\n",
       "</tr>\n",
       "</table>\n",
       "</span>\n",
       "</td>\n",
       "</tr>\n",
       "</table>\n",
       " \n",
       "\n"
      ]
     },
     "metadata": {},
     "output_type": "display_data"
    }
   ],
   "source": [
    "%"
   ]
  },
  {
   "cell_type": "code",
   "execution_count": 45,
   "metadata": {},
   "outputs": [
    {
     "name": "stdout",
     "output_type": "stream",
     "text": [
      "          +---+\n",
      "   erf(y)\\|%pi\n",
      "   ------------\n",
      "         2\n",
      "                                         Type: Union(Expression(Integer),...)\n"
     ]
    },
    {
     "data": {},
     "metadata": {},
     "output_type": "display_data"
    }
   ],
   "source": [
    "integrate(exp(-y^2),y)"
   ]
  },
  {
   "cell_type": "code",
   "execution_count": 44,
   "metadata": {},
   "outputs": [
    {
     "name": "stdout",
     "output_type": "stream",
     "text": []
    },
    {
     "data": {
      "text/mathml": []
     },
     "metadata": {},
     "output_type": "display_data"
    }
   ],
   "source": [
    ")set output mathml off"
   ]
  },
  {
   "cell_type": "code",
   "execution_count": 41,
   "metadata": {},
   "outputs": [
    {
     "name": "stdout",
     "output_type": "stream",
     "text": [
      "                   Current Values of  output  Variables                    \n",
      "\n",
      "Variable     Description                                Current Value\n",
      "-----------------------------------------------------------------------------\n",
      "abbreviate   abbreviate type names                      off \n",
      "algebra      display output in algebraic form           On:CONSOLE \n",
      "characters   choose special output character set        plain \n",
      "fortran      create output in FORTRAN format            Off:CONSOLE \n",
      "fraction     how fractions are formatted                vertical \n",
      "length       line length of output displays             77 \n",
      "openmath     create output in OpenMath style            Off:CONSOLE \n",
      "script       display output in SCRIPT formula format    Off:CONSOLE \n",
      "scripts      show subscripts,... linearly               off \n",
      "showeditor   view output of )show in editor             off \n",
      "tex          create output in TeX style                 Off:CONSOLE \n",
      "mathml       create output in MathML style              Off:CONSOLE \n",
      "texmacs      create output in Texmacs style             Off:CONSOLE \n",
      "html         create output in HTML style                Off:CONSOLE \n",
      "\n"
     ]
    },
    {
     "data": {},
     "metadata": {},
     "output_type": "display_data"
    }
   ],
   "source": [
    ")set output "
   ]
  },
  {
   "cell_type": "code",
   "execution_count": 46,
   "metadata": {},
   "outputs": [
    {
     "name": "stdout",
     "output_type": "stream",
     "text": [
      "   263\n",
      "   ---\n",
      "    41\n",
      "                                                      Type: Fraction(Integer)\n"
     ]
    },
    {
     "data": {},
     "metadata": {},
     "output_type": "display_data"
    }
   ],
   "source": [
    "1/x"
   ]
  },
  {
   "cell_type": "code",
   "execution_count": 47,
   "metadata": {},
   "outputs": [
    {
     "name": "stdout",
     "output_type": "stream",
     "text": [
      "   Hello\n",
      "                                                                   Type: Void\n"
     ]
    },
    {
     "data": {},
     "metadata": {},
     "output_type": "display_data"
    }
   ],
   "source": [
    "print Hello"
   ]
  },
  {
   "cell_type": "code",
   "execution_count": null,
   "metadata": {},
   "outputs": [],
   "source": [
    ")lisp (format nil \"V:=~A~\" \"x\")"
   ]
  },
  {
   "cell_type": "code",
   "execution_count": 51,
   "metadata": {},
   "outputs": [
    {
     "name": "stdout",
     "output_type": "stream",
     "text": [
      "Value = \"V:=123~\"\n"
     ]
    },
    {
     "data": {},
     "metadata": {},
     "output_type": "display_data"
    }
   ],
   "source": [
    ")lisp (format nil \"V:=~A~~\" \"123\")"
   ]
  },
  {
   "cell_type": "code",
   "execution_count": 52,
   "metadata": {},
   "outputs": [
    {
     "name": "stdout",
     "output_type": "stream",
     "text": [
      "V:=123~\n",
      "Value = NIL\n"
     ]
    },
    {
     "data": {},
     "metadata": {},
     "output_type": "display_data"
    }
   ],
   "source": [
    ")lisp (format t \"V:=~A~~\" \"123\")"
   ]
  },
  {
   "cell_type": "code",
   "execution_count": 54,
   "metadata": {},
   "outputs": [
    {
     "name": "stdout",
     "output_type": "stream",
     "text": []
    },
    {
     "data": {},
     "metadata": {},
     "output_type": "display_data"
    }
   ],
   "source": [
    ")set output html on"
   ]
  },
  {
   "cell_type": "code",
   "execution_count": 60,
   "metadata": {},
   "outputs": [
    {
     "name": "stdout",
     "output_type": "stream",
     "text": [
      "<bf>123~ </bf>\n",
      "Value = NIL\n"
     ]
    },
    {
     "data": {
      "text/html": []
     },
     "metadata": {},
     "output_type": "display_data"
    }
   ],
   "source": [
    ")lisp (format t \"<bf>~A~~ </bf>\" \"123\")"
   ]
  },
  {
   "cell_type": "code",
   "execution_count": 62,
   "metadata": {},
   "outputs": [
    {
     "name": "stdout",
     "output_type": "stream",
     "text": [
      "   \"Hello\"\n",
      "                                                                   Type: Void\n"
     ]
    },
    {
     "data": {
      "text/html": []
     },
     "metadata": {},
     "output_type": "display_data"
    }
   ],
   "source": [
    "print \"Hello\""
   ]
  },
  {
   "cell_type": "code",
   "execution_count": 64,
   "metadata": {},
   "outputs": [
    {
     "name": "stdout",
     "output_type": "stream",
     "text": [
      "   \"<h1>Hello</h1>\"\n",
      "                                                                 Type: String\n"
     ]
    },
    {
     "data": {
      "text/html": [
       "\"<h1>Hello</h1>\"\n",
       " \n",
       "\n"
      ]
     },
     "metadata": {},
     "output_type": "display_data"
    }
   ],
   "source": [
    "\"<h1>Hello</h1>\""
   ]
  },
  {
   "cell_type": "code",
   "execution_count": 68,
   "metadata": {},
   "outputs": [
    {
     "name": "stdout",
     "output_type": "stream",
     "text": [
      "   567\n",
      "   ---\n",
      "   263\n",
      "                                                      Type: Fraction(Integer)\n"
     ]
    },
    {
     "data": {
      "text/html": [
       "<table border='0' id='col'>\n",
       "<tr id='col'>\n",
       "<td>\n",
       "567\n",
       "</td>\n",
       "</tr>\n",
       "<tr id='col'>\n",
       "<td style='border-top-style:solid'>\n",
       "263\n",
       "</td>\n",
       "</tr>\n",
       "</table>\n",
       " \n",
       "\n"
      ]
     },
     "metadata": {},
     "output_type": "display_data"
    }
   ],
   "source": [
    "x+2"
   ]
  },
  {
   "cell_type": "code",
   "execution_count": 69,
   "metadata": {},
   "outputs": [
    {
     "name": "stdout",
     "output_type": "stream",
     "text": [
      "   \"<p style='color:red'>This is a paragraph.</p>\"\n",
      "                                                                 Type: String\n"
     ]
    },
    {
     "data": {
      "text/html": [
       "\"<p style='color:red'>This is a paragraph.</p>\"\n",
       " \n",
       "\n"
      ]
     },
     "metadata": {},
     "output_type": "display_data"
    }
   ],
   "source": [
    "htmlp:=\"<p style='color:red'>This is a paragraph.</p>\" "
   ]
  },
  {
   "cell_type": "code",
   "execution_count": 70,
   "metadata": {},
   "outputs": [
    {
     "name": "stdout",
     "output_type": "stream",
     "text": [
      "                                                                   Type: Void\n"
     ]
    },
    {
     "data": {
      "text/html": []
     },
     "metadata": {},
     "output_type": "display_data"
    }
   ],
   "source": [
    "html() == return htmlp"
   ]
  },
  {
   "cell_type": "code",
   "execution_count": 71,
   "metadata": {},
   "outputs": [
    {
     "name": "stdout",
     "output_type": "stream",
     "text": [
      "   \"<p style='color:red'>This is a paragraph.</p>\"\n",
      "                                                                 Type: String\n"
     ]
    },
    {
     "data": {
      "text/html": [
       "\"<p style='color:red'>This is a paragraph.</p>\"\n",
       " \n",
       "\n"
      ]
     },
     "metadata": {},
     "output_type": "display_data"
    }
   ],
   "source": [
    "html()"
   ]
  },
  {
   "cell_type": "code",
   "execution_count": 72,
   "metadata": {},
   "outputs": [
    {
     "name": "stdout",
     "output_type": "stream",
     "text": []
    },
    {
     "data": {
      "text/html": []
     },
     "metadata": {},
     "output_type": "display_data"
    }
   ],
   "source": [
    ")set output html off"
   ]
  },
  {
   "cell_type": "code",
   "execution_count": null,
   "metadata": {},
   "outputs": [
    {
     "name": "stdout",
     "output_type": "stream",
     "text": [
      "So Aug 11 22:48:23 CEST 2019\n"
     ]
    }
   ],
   "source": [
    "!date"
   ]
  },
  {
   "cell_type": "code",
   "execution_count": 74,
   "metadata": {},
   "outputs": [
    {
     "name": "stdout",
     "output_type": "stream",
     "text": [
      "\n",
      "There are 2 unexposed functions called d :\n",
      "   [1] D1 -> JetDifferential(D2,D1) from JetDifferential(D2,D1)\n",
      "            if D2 has JBC and D1 has JBFC(D2)\n",
      "   [2] D1 -> JetDifferential(D1,D2) from JetDifferential(D1,D2)\n",
      "            if D1 has JBC and D2 has JBFC(D1)\n"
     ]
    },
    {
     "data": {},
     "metadata": {},
     "output_type": "display_data"
    }
   ],
   "source": [
    ")d op d"
   ]
  },
  {
   "cell_type": "code",
   "execution_count": null,
   "metadata": {},
   "outputs": [],
   "source": []
  }
 ],
 "metadata": {
  "kernelspec": {
   "display_name": "FriCAS",
   "language": "spad",
   "name": "jfricas"
  },
  "language_info": {
   "file_extension": ".input",
   "mimetype": "text/plain",
   "name": "spad"
  }
 },
 "nbformat": 4,
 "nbformat_minor": 2
}
